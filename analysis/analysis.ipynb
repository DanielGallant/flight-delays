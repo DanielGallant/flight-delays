{
 "cells": [
  {
   "attachments": {},
   "cell_type": "markdown",
   "metadata": {},
   "source": [
    "# Exploration of airport delay data\n",
    "\n",
    "This notebook aims predict day-ahead delays at US airport(s) based on historical delays and various other features.\n",
    "\n",
    "Sections:\n",
    "- Download Data Locally\n",
    "- Cleaning, Feature Engineering and Encoding \n",
    "- Feed-forward Deep Learning Model\n",
    "- Conclusion"
   ]
  },
  {
   "attachments": {},
   "cell_type": "markdown",
   "metadata": {},
   "source": [
    "## Download data locally\n",
    "\n",
    "- The following script downloads flight data CSVs and merges everything into a Dataframe\n",
    "- Two CSVs are generated to act as a cache to stop re-download on execution\n",
    "- To collect the newest data, delete existing CSVs"
   ]
  },
  {
   "cell_type": "code",
   "execution_count": 179,
   "metadata": {},
   "outputs": [
    {
     "name": "stdout",
     "output_type": "stream",
     "text": [
      "             origin arrive_depart  \\\n",
      "0  Las Vegas\\n(LAS)      12:06 am   \n",
      "1    Orlando\\n(MCO)      12:10 am   \n",
      "2      Miami\\n(MIA)      12:10 am   \n",
      "3   New York\\n(JFK)      12:13 am   \n",
      "4     Dallas\\n(DAL)      12:27 am   \n",
      "\n",
      "                                           flight  \\\n",
      "0                                           DL707   \n",
      "1                                          WN1326   \n",
      "2                                          F92337   \n",
      "3  DL1248\\nAZ3401\\nKL5031\\nUX3424\\nVS4817\\nWS7756   \n",
      "4                                           CHR10   \n",
      "\n",
      "                                             airline terminal  \\\n",
      "0                                    Delta Air Lines        S   \n",
      "1                                 Southwest Airlines        N   \n",
      "2                                  Frontier Airlines        N   \n",
      "3  Delta Air Lines\\nITA Airways\\nKLM Royal Dutch ...        S   \n",
      "4                                 Chairman Airmotive      NaN   \n",
      "\n",
      "                 status airport_code              Ingestion Date      Date  \\\n",
      "0  Landed - On-time [+]          ATL  2023-05-12 15:50:43.586941  20230512   \n",
      "1  Landed - On-time [+]          ATL  2023-05-12 15:50:43.586941  20230512   \n",
      "2  Landed - Delayed [+]          ATL  2023-05-12 15:50:43.586941  20230512   \n",
      "3  Landed - On-time [+]          ATL  2023-05-12 15:50:43.586941  20230512   \n",
      "4  Landed - On-time [+]          ATL  2023-05-12 15:50:43.586941  20230512   \n",
      "\n",
      "   arrivals_departures  \n",
      "0                    0  \n",
      "1                    0  \n",
      "2                    0  \n",
      "3                    0  \n",
      "4                    0  \n"
     ]
    }
   ],
   "source": [
    "from azure.storage.blob import BlobServiceClient\n",
    "import pandas as pd\n",
    "import io\n",
    "import os\n",
    "\n",
    "# Your connection string\n",
    "connect_str = \"\"\n",
    "# Create the BlobServiceClient object\n",
    "blob_service_client = BlobServiceClient.from_connection_string(connect_str)\n",
    "\n",
    "# Get a reference to the container\n",
    "container_client = blob_service_client.get_container_client(\"aviation499\")\n",
    "\n",
    "\n",
    "def get_df(arrive_departure, csv_filename):\n",
    "    # Check if the CSV file already exists\n",
    "    if os.path.exists(csv_filename):\n",
    "        # Load the CSV file into a DataFrame\n",
    "        df = pd.read_csv(csv_filename)\n",
    "    else:\n",
    "        blob_list = container_client.list_blobs(name_starts_with=arrive_departure)\n",
    "        combined_df = pd.DataFrame()\n",
    "\n",
    "        # Iterate over each blob in the folder\n",
    "        for blob in blob_list:\n",
    "            # Check if the blob is a CSV file\n",
    "            if blob.name.endswith(\".csv\"):\n",
    "                # Download the CSV file\n",
    "                blob_data = container_client.get_blob_client(blob.name).download_blob().readall()\n",
    "                \n",
    "                # Convert the blob data to a DataFrame\n",
    "                df = pd.read_csv(io.StringIO(blob_data.decode(\"utf-8\")))\n",
    "                \n",
    "                # Extract the airport name and date from the blob name\n",
    "                _, date, airport_name = blob.name.split(\"/\")\n",
    "                df['Date'] = date\n",
    "                \n",
    "                combined_df = pd.concat([combined_df, df], ignore_index=True)\n",
    "        \n",
    "        # Save the combined DataFrame as a CSV file\n",
    "        combined_df.to_csv(csv_filename, index=False)\n",
    "        \n",
    "        # Assign the DataFrame to the variable\n",
    "        df = combined_df\n",
    "    \n",
    "    return df\n",
    "\n",
    "# Get the arrivals and departures data as DataFrame\n",
    "combined_df_arrivals = get_df(\"arrivals\", \"arrivals.csv\")\n",
    "combined_df_departures = get_df(\"departures\", \"departures.csv\")\n",
    "\n",
    "\n",
    "# Add 'arrivals_departures' column to DataFrames and label\n",
    "combined_df_arrivals['arrivals_departures'] = 0\n",
    "combined_df_departures['arrivals_departures'] = 1\n",
    "\n",
    "# Concatenate the arrivals and departures dataframes\n",
    "combined_df = pd.concat([combined_df_arrivals, combined_df_departures])\n",
    "\n",
    "# Reset the index of the combined dataframe\n",
    "combined_df = combined_df.reset_index(drop=True)\n",
    "\n",
    "# Print the head of the arrivals and departures data\n",
    "print(combined_df.head())\n"
   ]
  },
  {
   "attachments": {},
   "cell_type": "markdown",
   "metadata": {},
   "source": [
    "## Cleaning, Feature Engineering and Encoding \n",
    "\n",
    "- Find null values\n",
    "- Drop redundant columns,\n",
    "- Value counts for flight status code - diverted and cancelled become delayed, landed is on time (everything is disruption)"
   ]
  },
  {
   "cell_type": "code",
   "execution_count": 180,
   "metadata": {},
   "outputs": [
    {
     "name": "stdout",
     "output_type": "stream",
     "text": [
      "Null value counts in arrivals:\n",
      "origin                     0\n",
      "arrive_depart              0\n",
      "flight                     0\n",
      "airline                   87\n",
      "terminal               74972\n",
      "status                     0\n",
      "airport_code               0\n",
      "Ingestion Date             0\n",
      "Date                       0\n",
      "arrivals_departures        0\n",
      "dtype: int64\n"
     ]
    }
   ],
   "source": [
    "# Find and count null values\n",
    "arrivals_null_counts = combined_df.isnull().sum()\n",
    "print(\"Null value counts in arrivals:\")\n",
    "print(arrivals_null_counts)"
   ]
  },
  {
   "cell_type": "code",
   "execution_count": 181,
   "metadata": {},
   "outputs": [
    {
     "name": "stdout",
     "output_type": "stream",
     "text": [
      "             origin                                            airline  \\\n",
      "0  Las Vegas\\n(LAS)                                    Delta Air Lines   \n",
      "1    Orlando\\n(MCO)                                 Southwest Airlines   \n",
      "2      Miami\\n(MIA)                                  Frontier Airlines   \n",
      "3   New York\\n(JFK)  Delta Air Lines\\nITA Airways\\nKLM Royal Dutch ...   \n",
      "4     Dallas\\n(DAL)                                 Chairman Airmotive   \n",
      "\n",
      "                 status airport_code      Date  arrivals_departures  \n",
      "0  Landed - On-time [+]          ATL  20230512                    0  \n",
      "1  Landed - On-time [+]          ATL  20230512                    0  \n",
      "2  Landed - Delayed [+]          ATL  20230512                    0  \n",
      "3  Landed - On-time [+]          ATL  20230512                    0  \n",
      "4  Landed - On-time [+]          ATL  20230512                    0  \n"
     ]
    }
   ],
   "source": [
    "# Drop the specified columns - not used\n",
    "combined_df = combined_df.drop(['flight', 'arrive_depart','terminal','Ingestion Date'], axis=1)\n",
    "\n",
    "print(combined_df.head())"
   ]
  },
  {
   "cell_type": "code",
   "execution_count": 182,
   "metadata": {},
   "outputs": [
    {
     "name": "stdout",
     "output_type": "stream",
     "text": [
      "Unique status types and counts:\n",
      "\n",
      "status\n",
      "Landed - On-time [+]     598397\n",
      "Landed - Delayed [+]     198885\n",
      "Landed - DIVERTED [+]      4538\n",
      "Landed [+]                   20\n",
      "Name: count, dtype: int64\n"
     ]
    }
   ],
   "source": [
    "# Find unique status types\n",
    "arrivals_status_counts = combined_df['status'].value_counts()\n",
    "print(\"Unique status types and counts:\\n\")\n",
    "print(arrivals_status_counts)"
   ]
  },
  {
   "cell_type": "code",
   "execution_count": 183,
   "metadata": {},
   "outputs": [],
   "source": [
    "# Define a mapping dictionary for encoding the status values\n",
    "status_mapping = {\n",
    "    'Landed - On-time [+]': 0,\n",
    "    'Landed [+]': 0,\n",
    "    'Landed - Delayed [+]': 1,\n",
    "    'Landed - DIVERTED [+]': 1\n",
    "}\n",
    "\n",
    "# Encode the \"status\" column in the arrivals DataFrame\n",
    "combined_df['status_encoded'] = combined_df['status'].map(status_mapping)"
   ]
  },
  {
   "attachments": {},
   "cell_type": "markdown",
   "metadata": {},
   "source": [
    "### Format origin column for airport"
   ]
  },
  {
   "cell_type": "code",
   "execution_count": 184,
   "metadata": {},
   "outputs": [
    {
     "data": {
      "text/plain": [
       "0         LAS\n",
       "1         MCO\n",
       "2         MIA\n",
       "3         JFK\n",
       "4         DAL\n",
       "         ... \n",
       "801835    CMH\n",
       "801836    FLL\n",
       "801837    DFW\n",
       "801838    MEM\n",
       "801839    FLL\n",
       "Name: origin_departure_code, Length: 801840, dtype: object"
      ]
     },
     "execution_count": 184,
     "metadata": {},
     "output_type": "execute_result"
    }
   ],
   "source": [
    "# Create the new column 'origin_code' which contains the 3 letter airport code\n",
    "combined_df['origin_departure_code'] = combined_df['origin'].str.split('\\n').str[1].str.strip('()')\n",
    "\n",
    "combined_df['origin_departure_code']\n"
   ]
  },
  {
   "attachments": {},
   "cell_type": "markdown",
   "metadata": {},
   "source": [
    "### Format Date and remove code sharing airlines"
   ]
  },
  {
   "cell_type": "code",
   "execution_count": 185,
   "metadata": {},
   "outputs": [],
   "source": [
    "# Convert the \"Date\" column in the arrivals DataFrame to datetime type\n",
    "\n",
    "combined_df['Date'] = pd.to_datetime(combined_df['Date'], format='%Y%m%d')\n",
    "\n",
    "\n",
    "# Removing code sharing parnters from airline column\n",
    "# First airline in string is the airline itself - creating new column with only first\n",
    "\n",
    "combined_df['airline'] = combined_df['airline'].str.split('\\n').str.get(0)"
   ]
  },
  {
   "attachments": {},
   "cell_type": "markdown",
   "metadata": {},
   "source": [
    "### Feature selection and encoding\n",
    "\n",
    "- Season\n",
    "- Federal public holiday\n",
    "- Day of the week\n",
    "- delay percentage 0 day prior (target predictor)\n",
    "- delay percentage 1 day prior\n",
    "- delay percentage 2 day prior\n",
    "- delay percentage 3 day prior\n",
    "- delay percentage 5 day prior\n",
    "- airport_code"
   ]
  },
  {
   "attachments": {},
   "cell_type": "markdown",
   "metadata": {},
   "source": [
    "### Seasonal feature\n",
    "Labelled 0,1,2,3 for Spring, Summer, Autumn, and Winter"
   ]
  },
  {
   "cell_type": "code",
   "execution_count": 186,
   "metadata": {},
   "outputs": [],
   "source": [
    "\n",
    "# Create a new column \"season\" and initialize with -1\n",
    "combined_df['season'] = -1\n",
    "\n",
    "# Define the criteria for each season based on month ranges\n",
    "season_mapping = {\n",
    "    'Spring': [3, 4, 5],\n",
    "    'Summer': [6, 7, 8],\n",
    "    'Autumn': [9, 10, 11],\n",
    "    'Winter': [12, 1, 2]\n",
    "}\n",
    "\n",
    "# Iterate over each row and assign the corresponding season\n",
    "for index, row in combined_df.iterrows():\n",
    "    month = row['Date'].month\n",
    "    for season, months in season_mapping.items():\n",
    "        if month in months:\n",
    "            # Map the season to numerical values (0, 1, 2, 3)\n",
    "            combined_df.at[index, 'season'] = list(season_mapping.keys()).index(season)\n",
    "            break\n"
   ]
  },
  {
   "attachments": {},
   "cell_type": "markdown",
   "metadata": {},
   "source": [
    "### Public holiday feature\n",
    "Binary - 0 no, 1 yes"
   ]
  },
  {
   "cell_type": "code",
   "execution_count": 187,
   "metadata": {},
   "outputs": [],
   "source": [
    "\n",
    "# Predefined list of public holidays in the US\n",
    "public_holidays = ['2023-01-01', '2023-01-16', '2023-02-20', '2023-05-29', '2023-07-04', '2023-09-04', '2023-10-09', '2023-11-10', '2023-11-23', '2023-12-25']\n",
    "\n",
    "# Convert the \"Date\" column to datetime type if it's not already\n",
    "combined_df['Date'] = pd.to_datetime(combined_df['Date'])\n",
    "\n",
    "# Create a new column \"public_holiday\" and initialize with 0\n",
    "combined_df['public_holiday'] = 0\n",
    "\n",
    "# Set the value to 1 if the date is in the public holidays list\n",
    "combined_df.loc[combined_df['Date'].dt.strftime('%Y-%m-%d').isin(public_holidays), 'public_holiday'] = 1\n"
   ]
  },
  {
   "attachments": {},
   "cell_type": "markdown",
   "metadata": {},
   "source": [
    "### Day of week feature\n",
    "Mon to Sun labelled as 0 to 6"
   ]
  },
  {
   "cell_type": "code",
   "execution_count": 188,
   "metadata": {},
   "outputs": [],
   "source": [
    "# Convert the \"Date\" column to datetime if it's not already in that format\n",
    "combined_df['Date'] = pd.to_datetime(combined_df['Date'])\n",
    "\n",
    "# Add a new column for the day of the week\n",
    "combined_df['Day of Week'] = combined_df['Date'].dt.dayofweek\n"
   ]
  },
  {
   "attachments": {},
   "cell_type": "markdown",
   "metadata": {},
   "source": [
    "### Delay look back feature\n",
    "Labels each day by the ratio (0-1) of delayed flights (delayed/all) looking back 1,2,3 and 5 days. delays_0 is the target."
   ]
  },
  {
   "cell_type": "code",
   "execution_count": 189,
   "metadata": {},
   "outputs": [],
   "source": [
    "# Delay look back features\n",
    "\n",
    "# Deys looking back\n",
    "lookback_periods = [0, 1, 2, 3, 5]\n",
    "\n",
    "# Generate respective columns\n",
    "for lookback in lookback_periods:\n",
    "    column_name = f'delays_{lookback}'\n",
    "    combined_df[column_name] = 0\n",
    "\n",
    "# Get the unique dates in the DataFrame\n",
    "unique_dates = combined_df['Date'].unique()\n",
    "\n",
    "# Loop through each unique date\n",
    "for date in unique_dates:\n",
    "    # Loop through a range of lookback days\n",
    "    for lookback in [0, 1, 2, 3, 5]:\n",
    "        # Compute the lookback date\n",
    "        lookback_date = date - pd.DateOffset(days=lookback)\n",
    "        \n",
    "        # Filter the DataFrame for the lookback date\n",
    "        lookback_data = combined_df[combined_df['Date'] == lookback_date]\n",
    "        \n",
    "        # Compute the delay proportion for the lookback period\n",
    "        record_count = len(lookback_data)\n",
    "        delay_count = len(lookback_data[lookback_data['status_encoded'] == 1])\n",
    "        \n",
    "        # Compute the delay proportion\n",
    "        delay_proportion = delay_count / record_count if record_count > 0 else 0\n",
    "        \n",
    "        # Update the corresponding rows in the delays columns\n",
    "        combined_df.loc[combined_df['Date'] == date, f'delays_{lookback}'] = delay_proportion\n",
    "\n",
    "\n",
    "# Remove the rows of the first 5 days - corrects feature - lookback 5 days\n",
    "combined_df = combined_df[combined_df['Date'] > combined_df['Date'].unique()[4]]"
   ]
  },
  {
   "attachments": {},
   "cell_type": "markdown",
   "metadata": {},
   "source": [
    "### Simplifying Dataframe\n",
    "Now that the most important feature (lookback) is calculated, non unique combinations of airport_code, Date, and arrivals_departure are dropped to lower the compute requirements of the model. This makes the encoded features encoded_airport_codes and encoded_airlines irrelevant. These features will be useful for a future model."
   ]
  },
  {
   "cell_type": "code",
   "execution_count": 190,
   "metadata": {},
   "outputs": [],
   "source": [
    "combined_df = combined_df.drop_duplicates(subset=['airport_code', 'Date','arrivals_departures'])"
   ]
  },
  {
   "attachments": {},
   "cell_type": "markdown",
   "metadata": {},
   "source": [
    "### Encoding origin_code, airport_code and airline\n",
    "Using one-hot for these categorical variables. Note that only airport_code is the feature implemented as the others are, the others will be used for a more complex model once more data is gathered. \n",
    "\n"
   ]
  },
  {
   "cell_type": "code",
   "execution_count": 191,
   "metadata": {},
   "outputs": [
    {
     "name": "stdout",
     "output_type": "stream",
     "text": [
      "Encoded origins_code shape: (2408, 194)\n",
      "Encoded airport codes shape: (2408, 28)\n",
      "Encoded airlines shape: (2408, 113)\n"
     ]
    }
   ],
   "source": [
    "# Encode origin airport, airline One-Hot encoding\n",
    "\n",
    "import tensorflow as tf\n",
    "import numpy as np\n",
    "\n",
    "# Get the unique origin values from the 'origin' column\n",
    "origins = combined_df['origin_departure_code'].unique()\n",
    "\n",
    "# Create a dictionary to map each origin value to an index\n",
    "origin_to_index = {origin: index for index, origin in enumerate(origins)}\n",
    "\n",
    "# Encode the 'origin' column using one-hot encoding\n",
    "encoded_origins = tf.one_hot(\n",
    "    tf.constant([origin_to_index[origin] for origin in combined_df['origin_departure_code']]),\n",
    "    depth=len(origins)\n",
    ")\n",
    "\n",
    "# Convert the encoded origins to a numpy array\n",
    "encoded_origins = np.array(encoded_origins)\n",
    "\n",
    "# Get the unique airport code values from the 'airport_code' column\n",
    "airport_codes = combined_df['airport_code'].unique()\n",
    "\n",
    "# Create a dictionary to map each airport code value to an index\n",
    "airport_code_to_index = {airport_code: index for index, airport_code in enumerate(airport_codes)}\n",
    "\n",
    "# Encode the 'airport_code' column using one-hot encoding\n",
    "encoded_airport_codes = tf.one_hot(\n",
    "    tf.constant([airport_code_to_index[airport_code] for airport_code in combined_df['airport_code']]),\n",
    "    depth=len(airport_codes)\n",
    ")\n",
    "\n",
    "# Convert the encoded airport codes to a numpy array\n",
    "encoded_airport_codes = np.array(encoded_airport_codes)\n",
    "\n",
    "# Get the unique airline values from the 'airline' column\n",
    "airlines = combined_df['airline'].unique()\n",
    "\n",
    "# Create a dictionary to map each airline value to an index\n",
    "airline_to_index = {airline: index for index, airline in enumerate(airlines)}\n",
    "\n",
    "# Encode the 'airline' column using one-hot encoding\n",
    "encoded_airlines = tf.one_hot(\n",
    "    tf.constant([airline_to_index[airline] for airline in combined_df['airline']]),\n",
    "    depth=len(airlines)\n",
    ")\n",
    "\n",
    "# Convert the encoded airlines to a numpy array\n",
    "encoded_airlines = np.array(encoded_airlines)\n",
    "\n",
    "# Print the shape of the encoded arrays\n",
    "print(\"Encoded origins_code shape:\", encoded_origins.shape)\n",
    "print(\"Encoded airport codes shape:\", encoded_airport_codes.shape)\n",
    "print(\"Encoded airlines shape:\", encoded_airlines.shape)"
   ]
  },
  {
   "attachments": {},
   "cell_type": "markdown",
   "metadata": {},
   "source": [
    "### Preparing features"
   ]
  },
  {
   "cell_type": "code",
   "execution_count": 192,
   "metadata": {},
   "outputs": [
    {
     "name": "stdout",
     "output_type": "stream",
     "text": [
      "Merged features shape: (2408, 36)\n"
     ]
    }
   ],
   "source": [
    "# Specify the feature columns\n",
    "feature_columns = ['delays_1', 'delays_2', 'delays_3', 'delays_5', 'season', 'public_holiday', 'Day of Week','arrivals_departures']\n",
    "\n",
    "# Extract the existing features as a NumPy array\n",
    "existing_features = combined_df[feature_columns].to_numpy()\n",
    "\n",
    "# Concatenate the existing features with the one-hot encoded features\n",
    "all_features = np.concatenate((existing_features, encoded_airport_codes,), axis=1)\n",
    "\n",
    "# Print the shape of the merged features array\n",
    "print(\"Merged features shape:\", all_features.shape)\n"
   ]
  },
  {
   "attachments": {},
   "cell_type": "markdown",
   "metadata": {},
   "source": [
    "## Feed-forward Deep Learning Model\n",
    "\n",
    "The model predicts the day-ahead proportion of flights which are delayed at all airports in aggregate, and individual airports. "
   ]
  },
  {
   "cell_type": "code",
   "execution_count": 193,
   "metadata": {},
   "outputs": [
    {
     "name": "stdout",
     "output_type": "stream",
     "text": [
      "Epoch 1/10\n",
      "61/61 [==============================] - 0s 2ms/step - loss: 0.0542 - val_loss: 0.0062\n",
      "Epoch 2/10\n",
      "61/61 [==============================] - 0s 1ms/step - loss: 0.0180 - val_loss: 0.0058\n",
      "Epoch 3/10\n",
      "61/61 [==============================] - 0s 2ms/step - loss: 0.0119 - val_loss: 0.0047\n",
      "Epoch 4/10\n",
      "61/61 [==============================] - 0s 1ms/step - loss: 0.0093 - val_loss: 0.0043\n",
      "Epoch 5/10\n",
      "61/61 [==============================] - 0s 1ms/step - loss: 0.0074 - val_loss: 0.0038\n",
      "Epoch 6/10\n",
      "61/61 [==============================] - 0s 1ms/step - loss: 0.0063 - val_loss: 0.0036\n",
      "Epoch 7/10\n",
      "61/61 [==============================] - 0s 1ms/step - loss: 0.0054 - val_loss: 0.0031\n",
      "Epoch 8/10\n",
      "61/61 [==============================] - 0s 1ms/step - loss: 0.0047 - val_loss: 0.0027\n",
      "Epoch 9/10\n",
      "61/61 [==============================] - 0s 1ms/step - loss: 0.0043 - val_loss: 0.0025\n",
      "Epoch 10/10\n",
      "61/61 [==============================] - 0s 1ms/step - loss: 0.0037 - val_loss: 0.0023\n"
     ]
    },
    {
     "data": {
      "text/plain": [
       "<keras.callbacks.History at 0x1b2534f4350>"
      ]
     },
     "execution_count": 193,
     "metadata": {},
     "output_type": "execute_result"
    }
   ],
   "source": [
    "import tensorflow as tf\n",
    "from tensorflow import keras\n",
    "from sklearn.model_selection import train_test_split\n",
    "\n",
    "# Split the data into training and testing sets\n",
    "target = combined_df['delays_0'].to_numpy()\n",
    "X_train, X_test, y_train, y_test = train_test_split(all_features, target, test_size=0.2, random_state=42)\n",
    "\n",
    "# Create a neural network model\n",
    "model = keras.Sequential([\n",
    "    keras.layers.Dense(64, activation='relu', input_shape=(all_features.shape[1],)),\n",
    "    keras.layers.Dropout(0.2),\n",
    "    keras.layers.Dense(64, activation='relu'),\n",
    "    keras.layers.Dropout(0.2),\n",
    "    keras.layers.Dense(1)\n",
    "])\n",
    "model.compile(optimizer=\"adam\", loss='mean_squared_error',)\n",
    "\n",
    "# Train the model\n",
    "model.fit(X_train, y_train, epochs=10, batch_size=32, validation_data=(X_test, y_test))\n",
    "\n"
   ]
  },
  {
   "attachments": {},
   "cell_type": "markdown",
   "metadata": {},
   "source": [
    "### Model performance - all airports"
   ]
  },
  {
   "cell_type": "code",
   "execution_count": 194,
   "metadata": {},
   "outputs": [
    {
     "name": "stdout",
     "output_type": "stream",
     "text": [
      "16/16 [==============================] - 0s 800us/step - loss: 0.0023\n",
      "Test Loss: 0.0022791149094700813\n",
      "16/16 [==============================] - 0s 733us/step\n",
      "Mean Squared Error (MSE): 0.0023\n",
      "Root Mean Squared Error (RMSE): 0.0477\n",
      "Mean Absolute Error (MAE): 0.0373\n",
      "R-squared (R2) Score: 0.7175\n",
      "Explained Variance Score: 0.7524\n"
     ]
    }
   ],
   "source": [
    "from sklearn.metrics import mean_squared_error, mean_absolute_error, r2_score, explained_variance_score\n",
    "\n",
    "# Evaluate the model\n",
    "loss = model.evaluate(X_test, y_test)\n",
    "print('Test Loss:', loss)\n",
    "\n",
    "# Make predictions\n",
    "y_pred = model.predict(X_test)\n",
    "\n",
    "# Calculate Mean Squared Error (MSE)\n",
    "mse_all_airports = mean_squared_error(y_test, y_pred)\n",
    "print('Mean Squared Error (MSE): {:.4f}'.format(mse_all_airports))\n",
    "\n",
    "#Calculate Root Mean Squared Error (RMSE)\n",
    "rmse = np.sqrt(mse_all_airports)\n",
    "print('Root Mean Squared Error (RMSE): {:.4f}'.format(rmse))\n",
    "\n",
    "# Calculate Mean Absolute Error (MAE)\n",
    "mae_all_airports = mean_absolute_error(y_test, y_pred)\n",
    "print('Mean Absolute Error (MAE): {:.4f}'.format(mae_all_airports))\n",
    "\n",
    "# Calculate R-squared (R2) Score\n",
    "r2_score = r2_score(y_test, y_pred)\n",
    "print('R-squared (R2) Score: {:.4f}'.format(r2_score))\n",
    "\n",
    "# Calculate Explained Variance Score\n",
    "explained_variance = explained_variance_score(y_test, y_pred)\n",
    "print('Explained Variance Score: {:.4f}'.format(explained_variance))\n"
   ]
  },
  {
   "attachments": {},
   "cell_type": "markdown",
   "metadata": {},
   "source": [
    "### Model performance - individual airports"
   ]
  },
  {
   "cell_type": "code",
   "execution_count": 195,
   "metadata": {},
   "outputs": [
    {
     "name": "stdout",
     "output_type": "stream",
     "text": [
      "3/3 [==============================] - 0s 2ms/step\n",
      "3/3 [==============================] - 0s 1ms/step\n",
      "3/3 [==============================] - 0s 2ms/step\n",
      "3/3 [==============================] - 0s 1ms/step\n",
      "3/3 [==============================] - 0s 975us/step\n",
      "3/3 [==============================] - 0s 2ms/step\n",
      "3/3 [==============================] - 0s 995us/step\n",
      "3/3 [==============================] - 0s 1ms/step\n",
      "3/3 [==============================] - 0s 1ms/step\n",
      "3/3 [==============================] - 0s 2ms/step\n",
      "3/3 [==============================] - 0s 1ms/step\n",
      "3/3 [==============================] - 0s 998us/step\n",
      "3/3 [==============================] - 0s 995us/step\n",
      "3/3 [==============================] - 0s 2ms/step\n",
      "3/3 [==============================] - 0s 991us/step\n",
      "3/3 [==============================] - 0s 1ms/step\n",
      "3/3 [==============================] - 0s 987us/step\n",
      "3/3 [==============================] - 0s 999us/step\n",
      "3/3 [==============================] - 0s 973us/step\n",
      "3/3 [==============================] - 0s 2ms/step\n",
      "3/3 [==============================] - 0s 1ms/step\n",
      "3/3 [==============================] - 0s 1ms/step\n",
      "3/3 [==============================] - 0s 1ms/step\n",
      "3/3 [==============================] - 0s 2ms/step\n",
      "3/3 [==============================] - 0s 1ms/step\n",
      "3/3 [==============================] - 0s 2ms/step\n",
      "3/3 [==============================] - 0s 3ms/step\n",
      "3/3 [==============================] - 0s 1ms/step\n",
      "Airport: ATL\n",
      "MSE: 0.0018622750074594456\n",
      "MAE: 0.033925135501906394\n",
      "\n",
      "Airport: AUS\n",
      "MSE: 0.0024833971559412265\n",
      "MAE: 0.0390989755526886\n",
      "\n",
      "Airport: BNA\n",
      "MSE: 0.0013937952793967253\n",
      "MAE: 0.02947789699400577\n",
      "\n",
      "Airport: BOS\n",
      "MSE: 0.0031151582886978753\n",
      "MAE: 0.04551429035658255\n",
      "\n",
      "Airport: BWI\n",
      "MSE: 0.0028007790237114237\n",
      "MAE: 0.04133099509191757\n",
      "\n",
      "Airport: CLT\n",
      "MSE: 0.0029487800940513767\n",
      "MAE: 0.043775739211624205\n",
      "\n",
      "Airport: DCA\n",
      "MSE: 0.0017805806442076626\n",
      "MAE: 0.03249866000584026\n",
      "\n",
      "Airport: DEN\n",
      "MSE: 0.0020555012943246106\n",
      "MAE: 0.03594881256901342\n",
      "\n",
      "Airport: DFW\n",
      "MSE: 0.0017325193948362595\n",
      "MAE: 0.03394465773105495\n",
      "\n",
      "Airport: DTW\n",
      "MSE: 0.0021453033512188026\n",
      "MAE: 0.03799981324731778\n",
      "\n",
      "Airport: EWR\n",
      "MSE: 0.0014871688398305353\n",
      "MAE: 0.030334732585712135\n",
      "\n",
      "Airport: FLL\n",
      "MSE: 0.00275742511681092\n",
      "MAE: 0.041605826214475616\n",
      "\n",
      "Airport: IAD\n",
      "MSE: 0.0027935598591530882\n",
      "MAE: 0.04267304042814741\n",
      "\n",
      "Airport: IAH\n",
      "MSE: 0.0033054948800704093\n",
      "MAE: 0.04381384969504301\n",
      "\n",
      "Airport: LAS\n",
      "MSE: 0.002751097232002761\n",
      "MAE: 0.04354696427476676\n",
      "\n",
      "Airport: LAX\n",
      "MSE: 0.0025927398046962174\n",
      "MAE: 0.04005609057422688\n",
      "\n",
      "Airport: LGA\n",
      "MSE: 0.0020782584584828866\n",
      "MAE: 0.035350447424564876\n",
      "\n",
      "Airport: MCO\n",
      "MSE: 0.002824963540030919\n",
      "MAE: 0.042556521242669176\n",
      "\n",
      "Airport: MDW\n",
      "MSE: 0.002097497532145362\n",
      "MAE: 0.03688098308571232\n",
      "\n",
      "Airport: MIA\n",
      "MSE: 0.003014143677073306\n",
      "MAE: 0.04197138966966139\n",
      "\n",
      "Airport: MSP\n",
      "MSE: 0.0020199665566076625\n",
      "MAE: 0.03577419852724809\n",
      "\n",
      "Airport: PHL\n",
      "MSE: 0.002106429664863067\n",
      "MAE: 0.036718268466802116\n",
      "\n",
      "Airport: PHX\n",
      "MSE: 0.0016097622312525324\n",
      "MAE: 0.033427188789171974\n",
      "\n",
      "Airport: SAN\n",
      "MSE: 0.0027309255777508423\n",
      "MAE: 0.04050530537986249\n",
      "\n",
      "Airport: SEA\n",
      "MSE: 0.0021185311262510932\n",
      "MAE: 0.036233647725798644\n",
      "\n",
      "Airport: SFO\n",
      "MSE: 0.002101142154289892\n",
      "MAE: 0.03535242802442003\n",
      "\n",
      "Airport: SLC\n",
      "MSE: 0.002077149536633166\n",
      "MAE: 0.0357794137063202\n",
      "\n",
      "Airport: TPA\n",
      "MSE: 0.002311810447764298\n",
      "MAE: 0.03705497673431405\n",
      "\n"
     ]
    }
   ],
   "source": [
    "# Get unique airports\n",
    "unique_airports = combined_df['airport_code'].unique()\n",
    "\n",
    "\n",
    "# Initialize lists to store MSE and MAE for each airport\n",
    "mse_scores = []\n",
    "mae_scores = []\n",
    "\n",
    "# Iterate over each airport\n",
    "for airport in unique_airports:\n",
    "\n",
    "    X_airport = np.concatenate((combined_df['airport_code'].values.reshape(-1, 1), combined_df['delays_0'].values.reshape(-1, 1), all_features), axis=1)\n",
    "    X_airport = X_airport[X_airport[:, 0] == airport]\n",
    "    y_airport = X_airport[:, 1]\n",
    "    X_airport = X_airport[:, 2:]\n",
    "    X_airport = X_airport.astype(np.float32)\n",
    "\n",
    "    # Make predictions for the airport\n",
    "    y_pred_airport = model.predict(X_airport)\n",
    "    \n",
    "    # Calculate MSE and MAE for the airport\n",
    "    mse = mean_squared_error(y_airport, y_pred_airport)\n",
    "    mae = mean_absolute_error(y_airport, y_pred_airport)\n",
    "    \n",
    "    # Append scores to the lists\n",
    "    mse_scores.append(mse)\n",
    "    mae_scores.append(mae)\n",
    "\n",
    "# Print MSE and MAE for each airport\n",
    "for i, airport in enumerate(unique_airports):\n",
    "    print(f\"Airport: {airport}\")\n",
    "    print(f\"MSE: {mse_scores[i]}\")\n",
    "    print(f\"MAE: {mae_scores[i]}\")\n",
    "    print()"
   ]
  },
  {
   "attachments": {},
   "cell_type": "markdown",
   "metadata": {},
   "source": [
    "### Plotting errors at airport level"
   ]
  },
  {
   "cell_type": "code",
   "execution_count": 196,
   "metadata": {},
   "outputs": [
    {
     "data": {
      "image/png": "[encoded data removed]",
      "text/plain": [
       "<Figure size 1200x600 with 2 Axes>"
      ]
     },
     "metadata": {},
     "output_type": "display_data"
    }
   ],
   "source": [
    "import matplotlib.pyplot as plt\n",
    "\n",
    "# Rank the airports based on MSE scores\n",
    "mse_ranks = np.argsort(mse_scores)\n",
    "# Rank the airports based on MAE scores\n",
    "mae_ranks = np.argsort(mae_scores)\n",
    "\n",
    "# Define the positions for the bars\n",
    "x = np.arange(len(unique_airports))\n",
    "\n",
    "# Convert the MSE and MAE scores to percentages\n",
    "mse_scores_pct = np.array(mse_scores) * 100\n",
    "mae_scores_pct = np.array(mae_scores) * 100\n",
    "\n",
    "# Sort the scores based on the ranks\n",
    "mse_scores_sorted = mse_scores_pct[mse_ranks]\n",
    "mae_scores_sorted = mae_scores_pct[mae_ranks]\n",
    "\n",
    "# Find the minimum percentage values of MSE and MAE\n",
    "min_mse_pct = min(mse_scores_sorted)\n",
    "min_mae_pct = min(mae_scores_sorted)\n",
    "\n",
    "# Calculate the average MSE and MAE\n",
    "mse_avg = np.mean(mse_scores) * 100\n",
    "mae_avg = np.mean(mae_scores) * 100\n",
    "\n",
    "# Create subplots with 1 row and 2 columns\n",
    "fig, axs = plt.subplots(1, 2, figsize=(12, 6))\n",
    "\n",
    "# Plot MSE scores\n",
    "axs[0].bar(x, mse_scores_sorted)\n",
    "axs[0].set_xticks(x)\n",
    "axs[0].set_xticklabels(unique_airports[mse_ranks], rotation=45)  # Label with airport codes\n",
    "axs[0].set_xlabel('Airport')\n",
    "axs[0].set_ylabel('MSE (%)')\n",
    "axs[0].set_title('Mean Squared Error (MSE) Scores for Airports')\n",
    "axs[0].set_ylim(bottom=min_mse_pct*0.95)  # Set the y-axis minimum to min_mse_pct\n",
    "\n",
    "# Plot MAE scores\n",
    "axs[1].bar(x, mae_scores_sorted)\n",
    "axs[1].set_xticks(x)\n",
    "axs[1].set_xticklabels(unique_airports[mae_ranks], rotation=45)  # Label with airport codes\n",
    "axs[1].set_xlabel('Airport')\n",
    "axs[1].set_ylabel('MAE (%)')\n",
    "axs[1].set_title('Mean Absolute Error (MAE) Scores for Airports')\n",
    "axs[1].set_ylim(bottom=min_mae_pct*0.95)  # Set the y-axis minimum to min_mae_pct\n",
    "\n",
    "# Zero the X-axis to the lowest value in both subplots\n",
    "axs[0].set_xlim(left=-0.5)\n",
    "axs[1].set_xlim(left=-0.5)\n",
    "\n",
    "# Add a horizontal line for the average scores\n",
    "axs[0].axhline(mse_avg, color='r', linestyle='--', label='Average')\n",
    "axs[1].axhline(mae_avg, color='r', linestyle='--', label='Average')\n",
    "\n",
    "# Add a legend for the average scores\n",
    "axs[0].legend(loc='upper right')\n",
    "axs[1].legend(loc='upper right')\n",
    "\n",
    "# Adjust spacing between subplots\n",
    "plt.tight_layout()\n",
    "\n",
    "# Display the plot\n",
    "plt.show()\n"
   ]
  },
  {
   "attachments": {},
   "cell_type": "markdown",
   "metadata": {},
   "source": [
    "## Conclusion\n",
    "\n",
    "The model acts as a delay good predictor, considering it has only circa 2 months of data at the time of this commit, with an R2 score of 0.6513 and a low MSE and MAE.\n",
    "\n",
    "The model will be updated every few weeks with more historical data, and experiment with the features, perhaps adding more. Examples of potential new data-sources/features include:\n",
    "- weather forecasts at airport level (rain & wind speeds)\n",
    "- economic data: CPI, ticket-price inflation\n",
    "- flights per day and ratio of flights per day to runways at each airport\n",
    "- change Season feature to month/week of year\n",
    "\n",
    "Other potential variables to predict:\n",
    "- airlines at each airport and at US level \n",
    "- flight numbers"
   ]
  }
 ],
 "metadata": {
  "kernelspec": {
   "display_name": "Python 3",
   "language": "python",
   "name": "python3"
  },
  "language_info": {
   "codemirror_mode": {
    "name": "ipython",
    "version": 3
   },
   "file_extension": ".py",
   "mimetype": "text/x-python",
   "name": "python",
   "nbconvert_exporter": "python",
   "pygments_lexer": "ipython3",
   "version": "3.11.0"
  },
  "orig_nbformat": 4
 },
 "nbformat": 4,
 "nbformat_minor": 2
}

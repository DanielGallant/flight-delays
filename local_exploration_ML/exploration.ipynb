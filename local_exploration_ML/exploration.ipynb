{
 "cells": [
  {
   "attachments": {},
   "cell_type": "markdown",
   "metadata": {},
   "source": [
    "## Exploration of airport delay data\n",
    "\n",
    "This notebook will explore the airport delays web scraped data and use various models to make predictions about future delays - 1 day ahead. Predictions will be based on historical delay data and weather data at each airport."
   ]
  }
 ],
 "metadata": {
  "language_info": {
   "name": "python"
  },
  "orig_nbformat": 4
 },
 "nbformat": 4,
 "nbformat_minor": 2
}
